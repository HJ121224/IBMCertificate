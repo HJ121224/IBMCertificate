{
 "cells": [
  {
   "cell_type": "markdown",
   "id": "26ea0339-ae4e-460f-a7d3-ebac276e9769",
   "metadata": {
    "tags": []
   },
   "source": [
    " # Data Science Tools and Ecosystem"
   ]
  },
  {
   "cell_type": "markdown",
   "id": "c9436e58-2ca5-4237-a0af-1231758c2806",
   "metadata": {},
   "source": [
    "In this notebook, Data Science Tools and Ecosystem are summarized."
   ]
  },
  {
   "cell_type": "markdown",
   "id": "df26634c-e877-445d-8515-a249b30b56e3",
   "metadata": {},
   "source": [
    "**Objective**"
   ]
  },
  {
   "cell_type": "markdown",
   "id": "9bcb846e-9e0a-46a4-8dfe-773490235552",
   "metadata": {
    "tags": []
   },
   "source": [
    "* List popular languages for data science \n",
    "* List of popular libraries used for data science \n",
    "* table of open source development tools\n",
    "* some examples of arithmetic in Python"
   ]
  },
  {
   "cell_type": "markdown",
   "id": "b3f421ee-a3e0-43b6-92e4-7b42ca48e79c",
   "metadata": {
    "tags": []
   },
   "source": [
    "## Author "
   ]
  },
  {
   "cell_type": "markdown",
   "id": "5971191d-2daa-4e08-8ca4-d97135b19313",
   "metadata": {
    "tags": []
   },
   "source": [
    "Heinrich"
   ]
  },
  {
   "cell_type": "code",
   "execution_count": 1,
   "id": "8d29aa11-8d02-475d-9deb-0c511d2715aa",
   "metadata": {
    "tags": []
   },
   "outputs": [],
   "source": [
    "##Some of the popular languages that Data Scientists use are:"
   ]
  },
  {
   "cell_type": "markdown",
   "id": "43bbb1e6-1a2f-4da1-a07a-bfb35aec2293",
   "metadata": {},
   "source": [
    "1. Python\n",
    "2. R\n",
    "3. C++\n",
    "4. Scala\n",
    "5. Java\n",
    "6. SQL"
   ]
  },
  {
   "cell_type": "markdown",
   "id": "4409b060-fa80-47da-9e74-54f9d1adfe02",
   "metadata": {},
   "source": [
    "1. Pandas\n",
    "2. NumPy\n",
    "3. SciPy\n",
    "4. Matplotlib"
   ]
  },
  {
   "cell_type": "markdown",
   "id": "5818afd7-72e1-4d9a-8e4d-5a21cf9bf393",
   "metadata": {
    "tags": []
   },
   "source": [
    "|Data Science Tools|\n",
    "|------------------|\n",
    "| Jupyter          |\n",
    "| R Studio         |\n",
    "| Apache Spark     |\n",
    "\n"
   ]
  },
  {
   "cell_type": "markdown",
   "id": "34ecd431-dff2-4ca9-a44f-4374e9d99139",
   "metadata": {
    "tags": []
   },
   "source": [
    "### Below are a few examples of evaluating arithmetic expressions in Python"
   ]
  },
  {
   "cell_type": "code",
   "execution_count": 2,
   "id": "6041a2c4-b7f6-4623-9edb-5ae168224f20",
   "metadata": {
    "tags": []
   },
   "outputs": [
    {
     "data": {
      "text/plain": [
       "17"
      ]
     },
     "execution_count": 2,
     "metadata": {},
     "output_type": "execute_result"
    }
   ],
   "source": [
    "'This a simple arithmetic expression to mutiply then add integers'\n",
    "(3*4)+5"
   ]
  },
  {
   "cell_type": "code",
   "execution_count": 3,
   "id": "9aa9a05b-46df-4750-8dfc-2083fface1b0",
   "metadata": {
    "tags": []
   },
   "outputs": [
    {
     "data": {
      "text/plain": [
       "3.3333333333333335"
      ]
     },
     "execution_count": 3,
     "metadata": {},
     "output_type": "execute_result"
    }
   ],
   "source": [
    "'This will convert 200 minutes to hours by dividing by 60'\n",
    "200/60"
   ]
  },
  {
   "cell_type": "code",
   "execution_count": null,
   "id": "4c1eb73e-a8ba-4875-a386-3a47352f0922",
   "metadata": {},
   "outputs": [],
   "source": []
  }
 ],
 "metadata": {
  "kernelspec": {
   "display_name": "Python",
   "language": "python",
   "name": "conda-env-python-py"
  },
  "language_info": {
   "codemirror_mode": {
    "name": "ipython",
    "version": 3
   },
   "file_extension": ".py",
   "mimetype": "text/x-python",
   "name": "python",
   "nbconvert_exporter": "python",
   "pygments_lexer": "ipython3",
   "version": "3.7.12"
  }
 },
 "nbformat": 4,
 "nbformat_minor": 5
}
